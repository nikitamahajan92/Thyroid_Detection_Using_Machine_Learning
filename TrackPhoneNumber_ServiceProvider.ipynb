{
  "nbformat": 4,
  "nbformat_minor": 0,
  "metadata": {
    "colab": {
      "provenance": [],
      "gpuType": "T4",
      "authorship_tag": "ABX9TyPOCGbPrwcXo9k8zgx9Dl+r",
      "include_colab_link": true
    },
    "kernelspec": {
      "name": "python3",
      "display_name": "Python 3"
    },
    "language_info": {
      "name": "python"
    },
    "accelerator": "GPU"
  },
  "cells": [
    {
      "cell_type": "markdown",
      "metadata": {
        "id": "view-in-github",
        "colab_type": "text"
      },
      "source": [
        "<a href=\"https://colab.research.google.com/github/nikitamahajan92/TrackPhoneNumber_ServiceProvider/blob/main/TrackPhoneNumber_ServiceProvider.ipynb\" target=\"_parent\"><img src=\"https://colab.research.google.com/assets/colab-badge.svg\" alt=\"Open In Colab\"/></a>"
      ]
    },
    {
      "cell_type": "code",
      "source": [
        "pip install phonenumbers"
      ],
      "metadata": {
        "colab": {
          "base_uri": "https://localhost:8080/"
        },
        "id": "xOEQALqKg59T",
        "outputId": "ce30f4b7-6c76-425c-92fd-7d2df3bfb3a0"
      },
      "execution_count": 11,
      "outputs": [
        {
          "output_type": "stream",
          "name": "stdout",
          "text": [
            "Looking in indexes: https://pypi.org/simple, https://us-python.pkg.dev/colab-wheels/public/simple/\n",
            "Requirement already satisfied: phonenumbers in /usr/local/lib/python3.10/dist-packages (8.13.13)\n"
          ]
        }
      ]
    },
    {
      "cell_type": "code",
      "source": [
        "#!/usr/bin/env python\n",
        "# coding: utf-8\n",
        "\n",
        "# In[1]:\n",
        "\n",
        "\n",
        "import phonenumbers\n",
        "\n",
        "country_code = int(input(\"Country Code: +\"))\n",
        "number = int(input(\"Enter your number: \"))\n",
        "Your_Number = f'+{country_code} {number}'\n",
        "print(\"Your Number: \",Your_Number)\n",
        "\n",
        "from phonenumbers import geocoder\n",
        "ch_number = phonenumbers.parse(Your_Number, \"CH\")\n",
        "print(geocoder.description_for_number(ch_number, \"en\"))\n",
        "\n",
        "from phonenumbers import carrier\n",
        "service_number = phonenumbers.parse(Your_Number, \"RO\")\n",
        "print(carrier.name_for_number(service_number, \"en\"))\n",
        "\n",
        "\n",
        "# In[ ]:\n",
        "\n",
        "\n"
      ],
      "metadata": {
        "colab": {
          "base_uri": "https://localhost:8080/"
        },
        "id": "t1nfpuTtgjnD",
        "outputId": "676ead91-3172-4d3e-b204-13bffb22dbe4"
      },
      "execution_count": 12,
      "outputs": [
        {
          "output_type": "stream",
          "name": "stdout",
          "text": [
            "Country Code: +91\n",
            "Enter your number: 9759240592\n",
            "Your Number:  +91 9759240592\n",
            "India\n",
            "Vodafone\n"
          ]
        }
      ]
    },
    {
      "cell_type": "code",
      "source": [],
      "metadata": {
        "id": "6gSkhCk5g6Yw"
      },
      "execution_count": null,
      "outputs": []
    }
  ]
}