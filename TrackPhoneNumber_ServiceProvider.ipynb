{
  "nbformat": 4,
  "nbformat_minor": 0,
  "metadata": {
    "colab": {
      "provenance": [],
      "gpuType": "T4",
      "authorship_tag": "ABX9TyMpfrfYL7fj5h9hfu4V4r+H",
      "include_colab_link": true
    },
    "kernelspec": {
      "name": "python3",
      "display_name": "Python 3"
    },
    "language_info": {
      "name": "python"
    },
    "accelerator": "GPU"
  },
  "cells": [
    {
      "cell_type": "markdown",
      "metadata": {
        "id": "view-in-github",
        "colab_type": "text"
      },
      "source": [
        "<a href=\"https://colab.research.google.com/github/nikitamahajan92/TrackPhoneNumber_ServiceProvider/blob/main/TrackPhoneNumber_ServiceProvider.ipynb\" target=\"_parent\"><img src=\"https://colab.research.google.com/assets/colab-badge.svg\" alt=\"Open In Colab\"/></a>"
      ]
    },
    {
      "cell_type": "code",
      "source": [
        "pip install phonenumbers"
      ],
      "metadata": {
        "colab": {
          "base_uri": "https://localhost:8080/"
        },
        "id": "xOEQALqKg59T",
        "outputId": "cde8c5c1-72fc-47a6-8c5f-e1869cce7ac8"
      },
      "execution_count": 2,
      "outputs": [
        {
          "output_type": "stream",
          "name": "stdout",
          "text": [
            "Looking in indexes: https://pypi.org/simple, https://us-python.pkg.dev/colab-wheels/public/simple/\n",
            "Collecting phonenumbers\n",
            "  Downloading phonenumbers-8.13.13-py2.py3-none-any.whl (2.6 MB)\n",
            "\u001b[2K     \u001b[90m━━━━━━━━━━━━━━━━━━━━━━━━━━━━━━━━━━━━━━━━\u001b[0m \u001b[32m2.6/2.6 MB\u001b[0m \u001b[31m31.2 MB/s\u001b[0m eta \u001b[36m0:00:00\u001b[0m\n",
            "\u001b[?25hInstalling collected packages: phonenumbers\n",
            "Successfully installed phonenumbers-8.13.13\n"
          ]
        }
      ]
    },
    {
      "cell_type": "code",
      "source": [
        "#!/usr/bin/env python\n",
        "# coding: utf-8\n",
        "\n",
        "# In[1]:\n",
        "\n",
        "\n",
        "import phonenumbers\n",
        "\n",
        "country_code = int(input(\"Country Code: +\"))\n",
        "number = int(input(\"Enter your number: \"))\n",
        "Your_Number = f'+{country_code} {number}'\n",
        "print(\"Your Number: \",Your_Number)\n",
        "\n",
        "from phonenumbers import geocoder\n",
        "ch_number = phonenumbers.parse(Your_Number, \"CH\")\n",
        "print(geocoder.description_for_number(ch_number, \"en\"))\n",
        "\n",
        "from phonenumbers import carrier\n",
        "service_number = phonenumbers.parse(Your_Number, \"RO\")\n",
        "print(carrier.name_for_number(service_number, \"en\"))\n",
        "\n",
        "\n",
        "# In[ ]:\n",
        "\n",
        "\n",
        "\n"
      ],
      "metadata": {
        "colab": {
          "base_uri": "https://localhost:8080/"
        },
        "id": "t1nfpuTtgjnD",
        "outputId": "42780bd2-9373-4cfd-a951-c138c46ba99d"
      },
      "execution_count": 4,
      "outputs": [
        {
          "output_type": "stream",
          "name": "stdout",
          "text": [
            "Country Code: +91\n",
            "Enter your number: 9082535376\n",
            "Your Number:  +91 9082535376\n",
            "India\n",
            "Reliance Jio\n"
          ]
        }
      ]
    },
    {
      "cell_type": "code",
      "source": [],
      "metadata": {
        "id": "6gSkhCk5g6Yw"
      },
      "execution_count": null,
      "outputs": []
    }
  ]
}